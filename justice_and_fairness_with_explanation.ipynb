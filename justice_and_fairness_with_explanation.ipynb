{
 "cells": [
  {
   "cell_type": "markdown",
   "metadata": {},
   "source": [
    "<h1 id=\"tocheading\">Table of Contents</h1>\n",
    "<div id=\"toc\"></div>"
   ]
  },
  {
   "cell_type": "markdown",
   "metadata": {},
   "source": [
    "## Part 1 Challenge | Explanation\n",
    "\n",
    "A friend of yours was part of a secret society and was put on trial on 15 December 2014 without a lawyer. Alice encrypted the trial's transcript and sent it to Bob, but double agent Carol was able to e-mail a copy of the ciphertext to you. Your friend desperately needed help from a lawyer, but you were unable to provide one with the plaintext so that you could relay the proper advice back to your friend.\n",
    "\n",
    "**RESULTS OF TRIAL**: Your friend was executed on 26 December 2014, and the rest of your friend's family followed on 20 January 2015.\n",
    "\n",
    "Recently, Carol was able to intercept communications containing a rather ominous message. It seems that your friend's secret society has learned of the work you and your associates have been conducting and are less than pleased. Your life appears to be in jeopardy unless you solve the mystery of your friend's trial by the end of this quarter. If you fail, you will find out if there is an afterlife.\n",
    "\n",
    "**E-mail**: [Show](http://pastebin.com/raw/v1aakvQv)\n",
    "\n",
    "Can you produce the plaintext for the message below to prevent your untimely demise?\n",
    "\n",
    "**Cipher text**: [Show](http://pastebin.com/raw/GpWNFdQh)\n",
    "\n",
    "----\n",
    "\n",
    "**Explanation**\n",
    "\n",
    "Alice, Bob, Carol, and encryption – it sounds like there is a common theme to all of these words. Looking up \"Alice and Bob\" on Wikipedia [reveals](https://en.wikipedia.org/wiki/Alice_and_Bob) that \"Carol\" comes from a cast of characters. Since the e-mail was not added until after hint 18, it might as well be ignored for now.\n",
    "\n",
    "The [cipher text](http://pastebin.com/raw/GpWNFdQh) appears to be a jumbled mess of alpha characters. One interesting point of the text is that it appears to retain all whitespace, punctuation, and numeric characters as before the encryption process. Assuming the text was truly encrypted, the process only touched characters from the alphabet."
   ]
  },
  {
   "cell_type": "markdown",
   "metadata": {},
   "source": [
    "### Hint 1 | Explanation\n",
    "\n",
    "After checking your e-mail, you find the following message in your inbox.\n",
    "\n",
    "E-mail: [Show](http://pastebin.com/raw/4jc9hrGn)\n",
    "\n",
    "----\n",
    "\n",
    "**Explanation**\n",
    "\n",
    "The first hint is from Dave, someone from the cast of characters in the aforementioned Wikipedia article. It seems safe to assume that this list will be used in the future, but the significance of the names associated with the individuals is still unknown. Both Carol and Dave are listed as simply being participants without having a role or purpose described.\n",
    "\n",
    "The domain that the e-mail comes from appears to be Latin in origin. Asking Google to translate \"tenebris lamina\" into English leads to the phrase \"dark blade\" -- not very helpful but maybe part of the underlying story. The e-mail's subject is similarly unhelpful in trying to figure out what is going on.\n",
    "\n",
    "A long number means very little at this point. It is 27 digits long, and this only seems to be related to the length of the alphabet plus one -- maybe for a space. That is a very interesting idea and leads to an attempt to rewrite the number in base 27 to see if anything useful comes from the attempt."
   ]
  },
  {
   "cell_type": "code",
   "execution_count": 16,
   "metadata": {
    "collapsed": false
   },
   "outputs": [
    {
     "data": {
      "text/plain": [
       "'522502391212019514401214915'"
      ]
     },
     "execution_count": 16,
     "metadata": {},
     "output_type": "execute_result"
    }
   ],
   "source": [
    "hint_one_number = hon = '338531339395984130673279936'\n",
    "hon_notation = [5, 22, 5, 0, 23, 9, 12, 12, 0, 19, 5, 14, 4, 0, 1, 21, 4, 9, 15]\n",
    "''.join([str(i) for i in hon_notation])"
   ]
  },
  {
   "cell_type": "code",
   "execution_count": 5,
   "metadata": {
    "collapsed": false,
    "hide_input": true
   },
   "outputs": [
    {
     "data": {
      "application/javascript": [
       "$.getScript('https://kmahelona.github.io/ipython_notebook_goodies/ipython_notebook_toc.js')"
      ],
      "text/plain": [
       "<IPython.core.display.Javascript object>"
      ]
     },
     "metadata": {},
     "output_type": "display_data"
    }
   ],
   "source": [
    "%%javascript\n",
    "$.getScript('https://kmahelona.github.io/ipython_notebook_goodies/ipython_notebook_toc.js')"
   ]
  }
 ],
 "metadata": {
  "celltoolbar": "Edit Metadata",
  "kernelspec": {
   "display_name": "Python 3",
   "language": "python",
   "name": "python3"
  },
  "language_info": {
   "codemirror_mode": {
    "name": "ipython",
    "version": 3
   },
   "file_extension": ".py",
   "mimetype": "text/x-python",
   "name": "python",
   "nbconvert_exporter": "python",
   "pygments_lexer": "ipython3",
   "version": "3.5.2"
  }
 },
 "nbformat": 4,
 "nbformat_minor": 1
}
